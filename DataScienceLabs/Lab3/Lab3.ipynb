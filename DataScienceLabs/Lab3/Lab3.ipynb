{
  "nbformat": 4,
  "nbformat_minor": 0,
  "metadata": {
    "colab": {
      "name": "Lab3.ipynb",
      "provenance": [],
      "collapsed_sections": []
    },
    "kernelspec": {
      "name": "python3",
      "display_name": "Python 3"
    },
    "language_info": {
      "name": "python"
    }
  },
  "cells": [
    {
      "cell_type": "code",
      "metadata": {
        "id": "zKLfIvYyRtD_"
      },
      "source": [
        "import requests\n",
        "import pandas as pd\n",
        "import numpy as np\n",
        "import sys\n",
        "if sys.version_info[0] < 3: \n",
        "    from StringIO import StringIO\n",
        "else:\n",
        "    from io import StringIO"
      ],
      "execution_count": 101,
      "outputs": []
    },
    {
      "cell_type": "code",
      "metadata": {
        "id": "p1RBfPuSP4Xy"
      },
      "source": [
        "### Prepare Data For The Lab ###\n",
        "#import the CSVs\n",
        "costs_csv = requests.get(\"https://raw.githubusercontent.com/wingated/cs180_labs/main/costs.csv\").text\n",
        "supplements_csv = requests.get(\"https://raw.githubusercontent.com/wingated/cs180_labs/main/supplements.csv\").text\n",
        "\n",
        "# Exampe of a series\n",
        "math = pd.Series([80,96,78,59],['Mark','Barbara','Eleanor','David'])\n"
      ],
      "execution_count": 102,
      "outputs": []
    },
    {
      "cell_type": "code",
      "metadata": {
        "colab": {
          "base_uri": "https://localhost:8080/"
        },
        "id": "yQkVXSldR5cr",
        "outputId": "9923afa5-abfb-49b8-fb03-2a916905d3c8"
      },
      "source": [
        "#############################---Exercise 1 Start---###################################\n",
        "'''\n",
        "  Create a pandas series of type int64 called 'english' storing our four student's english grades:\n",
        "  Mark -> 90\n",
        "  Barbara -> 87\n",
        "  Eleanor -> 97\n",
        "  David -> 65\n",
        "'''\n",
        "\n",
        "print('#############################---Exercise 1---####################################\\n')\n",
        "english = pd.Series([90,87,97,65],['Mark','Barbara','Eleanor','David'])\n",
        "print(english)\n",
        "\n",
        "print('\\n#### Post Exercise Work ####\\n')\n",
        "data = np.array([[52.0, 73.0], [10.0, 39.0], [35.0, np.nan], \n",
        "                  [np.nan, 26.0], [np.nan, 99.0], [81.0, 68.0]])\n",
        "grades = pd.DataFrame(data, columns = ['Math', 'English'], \n",
        "                       index = ['Barbara', 'David', 'Eleanor', 'Greg', 'Lauren', 'Mark'])\n",
        "# look at the column labels of grades\n",
        "print(grades.columns)\n",
        "# look at the index labels of grades\n",
        "print(grades.index)\n",
        "# look at the values (2d array) of grades\n",
        "print(grades.values)\n",
        "\n",
        "######################################################################################"
      ],
      "execution_count": 103,
      "outputs": [
        {
          "output_type": "stream",
          "name": "stdout",
          "text": [
            "#############################---Exercise 1---####################################\n",
            "\n",
            "Mark       90\n",
            "Barbara    87\n",
            "Eleanor    97\n",
            "David      65\n",
            "dtype: int64\n",
            "\n",
            "#### Post Exercise Work ####\n",
            "\n",
            "Index(['Math', 'English'], dtype='object')\n",
            "Index(['Barbara', 'David', 'Eleanor', 'Greg', 'Lauren', 'Mark'], dtype='object')\n",
            "[[52. 73.]\n",
            " [10. 39.]\n",
            " [35. nan]\n",
            " [nan 26.]\n",
            " [nan 99.]\n",
            " [81. 68.]]\n"
          ]
        }
      ]
    },
    {
      "cell_type": "code",
      "metadata": {
        "colab": {
          "base_uri": "https://localhost:8080/"
        },
        "id": "y-O0z8g-SJqM",
        "outputId": "11694045-bf10-4629-f4a8-36bb9c06b1d5"
      },
      "source": [
        "#############################---Exercise 2 Start---####################################\n",
        "print('#############################---Exercise 2---####################################\\n')\n",
        "\n",
        "'''\n",
        "  Use .loc to print Eleanor and Mark's grades in both English and Math\n",
        "'''\n",
        "\n",
        "print('---Math Grades---')\n",
        "print(grades.loc[['Eleanor','Mark'], 'Math'])\n",
        "\n",
        "print('\\n---English Grades---')\n",
        "print(grades.loc[['Eleanor','Mark'], 'English'])\n"
      ],
      "execution_count": 104,
      "outputs": [
        {
          "output_type": "stream",
          "name": "stdout",
          "text": [
            "#############################---Exercise 2---####################################\n",
            "\n",
            "---Math Grades---\n",
            "Eleanor    35.0\n",
            "Mark       81.0\n",
            "Name: Math, dtype: float64\n",
            "\n",
            "---English Grades---\n",
            "Eleanor     NaN\n",
            "Mark       68.0\n",
            "Name: English, dtype: float64\n"
          ]
        }
      ]
    },
    {
      "cell_type": "code",
      "metadata": {
        "colab": {
          "base_uri": "https://localhost:8080/"
        },
        "id": "8UjP2P3rYtZ6",
        "outputId": "99799416-0721-4abf-86a5-5115979d275f"
      },
      "source": [
        "#############################---Exercise 3 Start---####################################\n",
        "print('#############################---Exercise 3---####################################\\n')\n",
        "\n",
        "'''\n",
        "  The costs.csv downloaded earlier contains an estimate of my costs over the past few semesters. You get to help me!\n",
        "\n",
        "    1. Read in the costs.csv file\n",
        "    2. Add a column called 'girlfriend' with all values set to 500\n",
        "    3. Reindex the columns such that the amount spent on rent is the first column and \n",
        "       the other columns stay in the same order\n",
        "    4. Sort the DataFrame in descending order based on how much I spent on fortnite_skins\n",
        "    5. Reset all the values in the rent column to 1000\n",
        "'''\n",
        "\n",
        "# Read in the costs.csv file\n",
        "livingCostData = StringIO(costs_csv)\n",
        "livingCostDf = pd.read_csv(livingCostData, sep=',')\n",
        "print('--Step 1--')\n",
        "print(livingCostDf)\n",
        "\n",
        "# Add a colum called'girlfriend with all values set to 500 \n",
        "livingCostDf['girlfriend'] = 500\n",
        "print('\\n--Step 2--')\n",
        "print(livingCostDf)\n",
        "\n",
        "# Reindex the columns such that the amount spent on rent is the first column and the other columns stay in the same order\n",
        "livingCostDf = livingCostDf.reindex(columns=['rent','books', 'food', 'fortnite_skins', 'girlfriend'])\n",
        "print('\\n--Step 3--')\n",
        "print(livingCostDf)\n",
        "\n",
        "# Sort the DataFrame in descending order based on how much I spent on fortnite_skins\n",
        "livingCostDf = livingCostDf.sort_values('fortnite_skins', ascending=False)\n",
        "print('\\n--Step 4--')\n",
        "print(livingCostDf)\n",
        "\n",
        "# Reset all the values in the rent column to 1000\n",
        "livingCostDf['rent'] = 1000\n",
        "print('\\n--Step 5--')\n",
        "print(livingCostDf)"
      ],
      "execution_count": 105,
      "outputs": [
        {
          "output_type": "stream",
          "name": "stdout",
          "text": [
            "#############################---Exercise 3---####################################\n",
            "\n",
            "--Step 1--\n",
            "   books  food  fortnite_skins  rent\n",
            "0    385   800              15   500\n",
            "1    280   700              10   500\n",
            "2    300   775              40   500\n",
            "3    312   750              18   525\n",
            "4    330   712              16   525\n",
            "5    120   900               5   550\n",
            "\n",
            "--Step 2--\n",
            "   books  food  fortnite_skins  rent  girlfriend\n",
            "0    385   800              15   500         500\n",
            "1    280   700              10   500         500\n",
            "2    300   775              40   500         500\n",
            "3    312   750              18   525         500\n",
            "4    330   712              16   525         500\n",
            "5    120   900               5   550         500\n",
            "\n",
            "--Step 3--\n",
            "   rent  books  food  fortnite_skins  girlfriend\n",
            "0   500    385   800              15         500\n",
            "1   500    280   700              10         500\n",
            "2   500    300   775              40         500\n",
            "3   525    312   750              18         500\n",
            "4   525    330   712              16         500\n",
            "5   550    120   900               5         500\n",
            "\n",
            "--Step 4--\n",
            "   rent  books  food  fortnite_skins  girlfriend\n",
            "2   500    300   775              40         500\n",
            "3   525    312   750              18         500\n",
            "4   525    330   712              16         500\n",
            "0   500    385   800              15         500\n",
            "1   500    280   700              10         500\n",
            "5   550    120   900               5         500\n",
            "\n",
            "--Step 5--\n",
            "   rent  books  food  fortnite_skins  girlfriend\n",
            "2  1000    300   775              40         500\n",
            "3  1000    312   750              18         500\n",
            "4  1000    330   712              16         500\n",
            "0  1000    385   800              15         500\n",
            "1  1000    280   700              10         500\n",
            "5  1000    120   900               5         500\n"
          ]
        }
      ]
    },
    {
      "cell_type": "code",
      "metadata": {
        "colab": {
          "base_uri": "https://localhost:8080/"
        },
        "id": "UE-rfh5NbGnz",
        "outputId": "e70f1e04-009b-4a47-e328-984c80bf993c"
      },
      "source": [
        "#############################---Exercise 4 Start---####################################\n",
        "print('#############################---Exercise 4---####################################\\n')\n",
        "\n",
        "'''\n",
        "  Calculate the mean cost of each column in the costs DataFrame in the cell below. \n",
        "  (Hint: use the DataFrame.mean() function!)\n",
        "'''\n",
        "print('---Mean cost of each column in the costs DataFrame---')\n",
        "print(livingCostDf.mean())"
      ],
      "execution_count": 106,
      "outputs": [
        {
          "output_type": "stream",
          "name": "stdout",
          "text": [
            "#############################---Exercise 4---####################################\n",
            "\n",
            "---Mean cost of each column in the costs DataFrame---\n",
            "rent              1000.000000\n",
            "books              287.833333\n",
            "food               772.833333\n",
            "fortnite_skins      17.333333\n",
            "girlfriend         500.000000\n",
            "dtype: float64\n"
          ]
        }
      ]
    },
    {
      "cell_type": "code",
      "metadata": {
        "colab": {
          "base_uri": "https://localhost:8080/",
          "height": 1000
        },
        "id": "TvkFTgLUeLNU",
        "outputId": "116efc4d-dfbe-41f5-f83f-a21447327c91"
      },
      "source": [
        "#############################---Exercise 5 Start---####################################\n",
        "print('#############################---Exercise 5---####################################\\n')\n",
        "\n",
        "'''\n",
        "  The supplements.csv downloaded earlier contains vitamin information (in mg) \n",
        "  for 20 different supplements I'm considering as I get ready for summer.\n",
        "\n",
        "  1. Read in the supplements.csv file\n",
        "  2. Fill all the na values using method='bfill' (HINT: put method='bfill' in the function call! \n",
        "     Google it if you're confused)\n",
        "  3. Sort the DataFrame by my most important vitamin, vitamin b6, in descending order\n",
        "  4. Use .drop() to create a new df, subset_df, containing all the vitamins in the supplements file except vitamin_d\n",
        "  5. Create a boxplot of all columns in subset_df (hint - make sure to call plt.show() at the end!!)\n",
        "'''\n",
        "\n",
        "# Read in the supplements.csv file\n",
        "supplementsData = StringIO(supplements_csv)\n",
        "supplementsDf = pd.read_csv(supplementsData, sep=',')\n",
        "print('--Step 1--')\n",
        "print(supplementsDf)\n",
        "\n",
        "# Fill all the na values using method='bfill' (HINT: put method='bfill' in the function call! Google it if you're confused)\n",
        "supplementsDf = supplementsDf.bfill()\n",
        "print('\\n--Step 2--')\n",
        "print(supplementsDf)\n",
        "\n",
        "# Sort the DataFrame by my most important vitamin, vitamin b6, in descending order\n",
        "supplementsDf = supplementsDf.sort_values('vitamin_b6', ascending=False)\n",
        "print('\\n--Step 3--')\n",
        "print(supplementsDf)\n",
        "\n",
        "# Use .drop() to create a new df, subset_df, containing all the vitamins in the supplements file except vitamin_d\n",
        "subset_df = supplementsDf.drop(columns=['vitamin_b6'])\n",
        "print('\\n--Step 4--')\n",
        "print('The new subset_df is..')\n",
        "print(subset_df)\n",
        "\n",
        "# Create a boxplot of all columns in subset_df (hint - make sure to call plt.show() at the end!!)\n",
        "print('\\n--Step 5--')\n",
        "boxplot = subset_df.boxplot(column=['vitamin_c', 'vitamin_d', 'vitamin_e', 'vitamin_k'])"
      ],
      "execution_count": 107,
      "outputs": [
        {
          "output_type": "stream",
          "name": "stdout",
          "text": [
            "#############################---Exercise 5---####################################\n",
            "\n",
            "--Step 1--\n",
            "    vitamin_c  vitamin_d  vitamin_e  vitamin_k  vitamin_b6\n",
            "0         NaN      547.0       21.0       25.0         6.0\n",
            "1        65.0      744.0       21.0       25.0         6.0\n",
            "2        71.0      664.0       22.0       30.0         NaN\n",
            "3        49.0      506.0       20.0       37.0         9.0\n",
            "4        43.0      520.0       24.0       23.0         0.0\n",
            "5        69.0      417.0       24.0       38.0         8.0\n",
            "6        51.0      556.0       20.0        NaN         5.0\n",
            "7        59.0      768.0       24.0       31.0         8.0\n",
            "8        69.0      439.0       24.0       37.0         1.0\n",
            "9        59.0      476.0       20.0       32.0         9.0\n",
            "10       65.0      585.0       24.0       18.0         8.0\n",
            "11       80.0      516.0       23.0       30.0         7.0\n",
            "12       59.0      591.0       23.0       30.0         3.0\n",
            "13       60.0      549.0       22.0       32.0         0.0\n",
            "14       80.0        NaN        NaN       38.0        10.0\n",
            "15       77.0      790.0       23.0       23.0        10.0\n",
            "16       71.0      771.0       24.0       18.0         1.0\n",
            "17       42.0      764.0       22.0        NaN         5.0\n",
            "18        NaN      517.0       24.0       20.0         6.0\n",
            "19       68.0      770.0       24.0       31.0         3.0\n",
            "\n",
            "--Step 2--\n",
            "    vitamin_c  vitamin_d  vitamin_e  vitamin_k  vitamin_b6\n",
            "0        65.0      547.0       21.0       25.0         6.0\n",
            "1        65.0      744.0       21.0       25.0         6.0\n",
            "2        71.0      664.0       22.0       30.0         9.0\n",
            "3        49.0      506.0       20.0       37.0         9.0\n",
            "4        43.0      520.0       24.0       23.0         0.0\n",
            "5        69.0      417.0       24.0       38.0         8.0\n",
            "6        51.0      556.0       20.0       31.0         5.0\n",
            "7        59.0      768.0       24.0       31.0         8.0\n",
            "8        69.0      439.0       24.0       37.0         1.0\n",
            "9        59.0      476.0       20.0       32.0         9.0\n",
            "10       65.0      585.0       24.0       18.0         8.0\n",
            "11       80.0      516.0       23.0       30.0         7.0\n",
            "12       59.0      591.0       23.0       30.0         3.0\n",
            "13       60.0      549.0       22.0       32.0         0.0\n",
            "14       80.0      790.0       23.0       38.0        10.0\n",
            "15       77.0      790.0       23.0       23.0        10.0\n",
            "16       71.0      771.0       24.0       18.0         1.0\n",
            "17       42.0      764.0       22.0       20.0         5.0\n",
            "18       68.0      517.0       24.0       20.0         6.0\n",
            "19       68.0      770.0       24.0       31.0         3.0\n",
            "\n",
            "--Step 3--\n",
            "    vitamin_c  vitamin_d  vitamin_e  vitamin_k  vitamin_b6\n",
            "15       77.0      790.0       23.0       23.0        10.0\n",
            "14       80.0      790.0       23.0       38.0        10.0\n",
            "2        71.0      664.0       22.0       30.0         9.0\n",
            "3        49.0      506.0       20.0       37.0         9.0\n",
            "9        59.0      476.0       20.0       32.0         9.0\n",
            "10       65.0      585.0       24.0       18.0         8.0\n",
            "5        69.0      417.0       24.0       38.0         8.0\n",
            "7        59.0      768.0       24.0       31.0         8.0\n",
            "11       80.0      516.0       23.0       30.0         7.0\n",
            "18       68.0      517.0       24.0       20.0         6.0\n",
            "0        65.0      547.0       21.0       25.0         6.0\n",
            "1        65.0      744.0       21.0       25.0         6.0\n",
            "6        51.0      556.0       20.0       31.0         5.0\n",
            "17       42.0      764.0       22.0       20.0         5.0\n",
            "12       59.0      591.0       23.0       30.0         3.0\n",
            "19       68.0      770.0       24.0       31.0         3.0\n",
            "8        69.0      439.0       24.0       37.0         1.0\n",
            "16       71.0      771.0       24.0       18.0         1.0\n",
            "13       60.0      549.0       22.0       32.0         0.0\n",
            "4        43.0      520.0       24.0       23.0         0.0\n",
            "\n",
            "--Step 4--\n",
            "The new subset_df is..\n",
            "    vitamin_c  vitamin_d  vitamin_e  vitamin_k\n",
            "15       77.0      790.0       23.0       23.0\n",
            "14       80.0      790.0       23.0       38.0\n",
            "2        71.0      664.0       22.0       30.0\n",
            "3        49.0      506.0       20.0       37.0\n",
            "9        59.0      476.0       20.0       32.0\n",
            "10       65.0      585.0       24.0       18.0\n",
            "5        69.0      417.0       24.0       38.0\n",
            "7        59.0      768.0       24.0       31.0\n",
            "11       80.0      516.0       23.0       30.0\n",
            "18       68.0      517.0       24.0       20.0\n",
            "0        65.0      547.0       21.0       25.0\n",
            "1        65.0      744.0       21.0       25.0\n",
            "6        51.0      556.0       20.0       31.0\n",
            "17       42.0      764.0       22.0       20.0\n",
            "12       59.0      591.0       23.0       30.0\n",
            "19       68.0      770.0       24.0       31.0\n",
            "8        69.0      439.0       24.0       37.0\n",
            "16       71.0      771.0       24.0       18.0\n",
            "13       60.0      549.0       22.0       32.0\n",
            "4        43.0      520.0       24.0       23.0\n",
            "\n",
            "--Step 5--\n"
          ]
        },
        {
          "output_type": "display_data",
          "data": {
            "image/png": "[encoded data removed]",
            "text/plain": [
              "<Figure size 432x288 with 1 Axes>"
            ]
          },
          "metadata": {
            "needs_background": "light"
          }
        }
      ]
    },
    {
      "cell_type": "code",
      "metadata": {
        "colab": {
          "base_uri": "https://localhost:8080/"
        },
        "id": "FE9ZpnGIhYlc",
        "outputId": "472eb91b-59dd-4fa5-b31d-eeae01f9c56f"
      },
      "source": [
        "#############################---Exercise 6 Start---####################################\n",
        "print('#############################---Exercise 6---####################################\\n')\n",
        "\n",
        "'''\n",
        "  Write something that you noticed in the supplements data. Feel free to poke around, \n",
        "  plot some more things, and find something interesting!\n",
        "'''\n",
        "\n",
        "print(\"1. First thing I noticed: All of the supplement's vitamin E content is between 20-24mg. \\n   That is a very right range of coverage compared to the other vitamins.\")\n",
        "print(\"2. The second thing I noticed is that vitamin D has the greatest variance among all of the supplements.\")\n",
        "print(\"3. Last thing I noticed. According to WebMd, most of the supplements have the correct daily dosage for \\n   vitamins C, E, and K. However, the upper limit for vitamin C is 1000 mg/day while the suggested \\n   daily intake is 90 mg/day for men and 75 mg/day for women. I would suggest taking the\\n   supplement with the least vitamin C to avoid exceeding the upper limit from extra vitamin C consumed \\n   in the food you'll eat during the day.\")"
      ],
      "execution_count": 108,
      "outputs": [
        {
          "output_type": "stream",
          "name": "stdout",
          "text": [
            "#############################---Exercise 6---####################################\n",
            "\n",
            "1. First thing I noticed: All of the supplement's vitamin E content is between 20-24mg. \n",
            "   That is a very right range of coverage compared to the other vitamins.\n",
            "2. The second thing I noticed is that vitamin D has the greatest variance among all of the supplements.\n",
            "3. Last thing I noticed. According to WebMd, most of the supplements have the correct daily dosage for \n",
            "   vitamins C, E, and K. However, the upper limit for vitamin C is 1000 mg/day while the suggested \n",
            "   daily intake is 90 mg/day for men and 75 mg/day for women. I would suggest taking the\n",
            "   supplement with the least vitamin C to avoid exceeding the upper limit from extra vitamin C consumed \n",
            "   in the food you'll eat during the day.\n"
          ]
        }
      ]
    }
  ]
}