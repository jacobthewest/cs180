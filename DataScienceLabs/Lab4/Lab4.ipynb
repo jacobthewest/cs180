{
  "nbformat": 4,
  "nbformat_minor": 0,
  "metadata": {
    "colab": {
      "name": "Lab4.ipynb",
      "provenance": [],
      "collapsed_sections": []
    },
    "kernelspec": {
      "name": "python3",
      "display_name": "Python 3"
    },
    "language_info": {
      "name": "python"
    }
  },
  "cells": [
    {
      "cell_type": "code",
      "metadata": {
        "id": "kOZpMSulhdK6"
      },
      "source": [
        "### Getting Started ###\n",
        "\n",
        "import requests\n",
        "#import the CSVs\n",
        "lady_potty_csv = requests.get(\"https://andrewnc.github.io/lady_potty.csv\").text\n",
        "\n",
        "# Example Code\n",
        "import matplotlib.pyplot as plt\n",
        "import numpy as np\n",
        "import datetime as dt"
      ],
      "execution_count": 77,
      "outputs": []
    },
    {
      "cell_type": "code",
      "metadata": {
        "id": "vUoOKlB1iemy",
        "colab": {
          "base_uri": "https://localhost:8080/",
          "height": 265
        },
        "outputId": "eb46ae8c-f2c3-4c1f-a225-a635945cd162"
      },
      "source": [
        "#############################---Exercise 1 Start---###################################\n",
        "'''\n",
        "  Create a scatter plot of a single diagonal line from the top left corner to the bottom right corner. \n",
        "  You can use numpy, but it can also be done without using numpy.\n",
        "'''\n",
        "x = np.array([i for i in range(0, 101)])\n",
        "y = np.array([i for i in range(100, -1, -1)])\n",
        "\n",
        "plt.scatter(x,y)\n",
        "plt.show()\n",
        "######################################################################################"
      ],
      "execution_count": 29,
      "outputs": [
        {
          "output_type": "display_data",
          "data": {
            "image/png": "[encoded data removed]",
            "text/plain": [
              "<Figure size 432x288 with 1 Axes>"
            ]
          },
          "metadata": {
            "needs_background": "light"
          }
        }
      ]
    },
    {
      "cell_type": "code",
      "metadata": {
        "colab": {
          "base_uri": "https://localhost:8080/",
          "height": 595
        },
        "id": "shSrVM7_mSp7",
        "outputId": "c9888cd2-8344-4c85-f374-c74a9173d3f7"
      },
      "source": [
        "#############################---Exercise 2 Start---###################################\n",
        "'''\n",
        "  Find the best combination (subjective) of columns to display the separation between classes of flower.\n",
        "  Write a few sentences in a text box explaining your choice.\n",
        "'''\n",
        "import statsmodels.api as sm\n",
        "import pandas as pd\n",
        "df = sm.datasets.get_rdataset('iris').data\n",
        "\n",
        "petalWidth = np.array(df['Petal.Width'])\n",
        "petalLength = np.array(df['Petal.Length'])\n",
        "petalSurfaceArea = np.array(petalWidth * petalLength)\n",
        "\n",
        "df['Petal.SurfaceArea'] = petalSurfaceArea\n",
        "df = df.reindex(columns=['Sepal.Length','Sepal.Width', 'Petal.Length', 'Petal.Width', 'Petal.SurfaceArea', 'Species'])\n",
        "\n",
        "print(\"I chose to categorize the classes of flower by their total petal surface area.\")\n",
        "print(\"Why? Because flowers petals are what are pretty and all I care about in a flower.\")\n",
        "print(\"So let's see which flower has the largest petal surface area. This will also help us distinguish between flower speices.\")\n",
        "\n",
        "import plotly.express as px\n",
        "px.scatter(df, x='Species', y='Petal.SurfaceArea', color='Species')\n",
        "######################################################################################"
      ],
      "execution_count": 41,
      "outputs": [
        {
          "output_type": "stream",
          "name": "stdout",
          "text": [
            "I chose to categorize the classes of flower by their total petal surface area.\n",
            "Why? Because flowers petals are what are pretty and all I care about in a flower.\n",
            "So let's see which flower has the largest petal surface area. This will also help us distinguish between flower speices.\n"
          ]
        },
        {
          "output_type": "display_data",
          "data": {
            "text/html": [
              "<html>\n",
              "<head><meta charset=\"utf-8\" /></head>\n",
              "<body>\n",
              "    <div>\n",
              "            <script src=\"https://cdnjs.cloudflare.com/ajax/libs/mathjax/2.7.5/MathJax.js?config=TeX-AMS-MML_SVG\"></script><script type=\"text/javascript\">if (window.MathJax) {MathJax.Hub.Config({SVG: {font: \"STIX-Web\"}});}</script>\n",
              "                <script type=\"text/javascript\">window.PlotlyConfig = {MathJaxConfig: 'local'};</script>\n",
              "        <script src=\"https://cdn.plot.ly/plotly-latest.min.js\"></script>    \n",
              "            <div id=\"043eef42-dbeb-4981-b848-3dfea1ae5520\" class=\"plotly-graph-div\" style=\"height:525px; width:100%;\"></div>\n",
              "            <script type=\"text/javascript\">\n",
              "                \n",
              "                    window.PLOTLYENV=window.PLOTLYENV || {};\n",
              "                    \n",
              "                if (document.getElementById(\"043eef42-dbeb-4981-b848-3dfea1ae5520\")) {\n",
              "                    Plotly.newPlot(\n",
              "                        '043eef42-dbeb-4981-b848-3dfea1ae5520',\n",
              "                        [{\"hoverlabel\": {\"namelength\": 0}, \"hovertemplate\": \"Species=%{x}<br>Petal.SurfaceArea=%{y}\", \"legendgroup\": \"Species=setosa\", \"marker\": {\"color\": \"#636efa\", \"symbol\": \"circle\"}, \"mode\": \"markers\", \"name\": \"Species=setosa\", \"showlegend\": true, \"type\": \"scatter\", \"x\": [\"setosa\", \"setosa\", \"setosa\", \"setosa\", \"setosa\", \"setosa\", \"setosa\", \"setosa\", \"setosa\", \"setosa\", \"setosa\", \"setosa\", \"setosa\", \"setosa\", \"setosa\", \"setosa\", \"setosa\", \"setosa\", \"setosa\", \"setosa\", \"setosa\", \"setosa\", \"setosa\", \"setosa\", \"setosa\", \"setosa\", \"setosa\", \"setosa\", \"setosa\", \"setosa\", \"setosa\", \"setosa\", \"setosa\", \"setosa\", \"setosa\", \"setosa\", \"setosa\", \"setosa\", \"setosa\", \"setosa\", \"setosa\", \"setosa\", \"setosa\", \"setosa\", \"setosa\", \"setosa\", \"setosa\", \"setosa\", \"setosa\", \"setosa\"], \"xaxis\": \"x\", \"y\": [0.27999999999999997, 0.27999999999999997, 0.26, 0.30000000000000004, 0.27999999999999997, 0.68, 0.42, 0.30000000000000004, 0.27999999999999997, 0.15000000000000002, 0.30000000000000004, 0.32000000000000006, 0.13999999999999999, 0.11000000000000001, 0.24, 0.6000000000000001, 0.52, 0.42, 0.51, 0.44999999999999996, 0.34, 0.6000000000000001, 0.2, 0.85, 0.38, 0.32000000000000006, 0.6400000000000001, 0.30000000000000004, 0.27999999999999997, 0.32000000000000006, 0.32000000000000006, 0.6000000000000001, 0.15000000000000002, 0.27999999999999997, 0.30000000000000004, 0.24, 0.26, 0.13999999999999999, 0.26, 0.30000000000000004, 0.39, 0.39, 0.26, 0.96, 0.76, 0.42, 0.32000000000000006, 0.27999999999999997, 0.30000000000000004, 0.27999999999999997], \"yaxis\": \"y\"}, {\"hoverlabel\": {\"namelength\": 0}, \"hovertemplate\": \"Species=%{x}<br>Petal.SurfaceArea=%{y}\", \"legendgroup\": \"Species=versicolor\", \"marker\": {\"color\": \"#EF553B\", \"symbol\": \"circle\"}, \"mode\": \"markers\", \"name\": \"Species=versicolor\", \"showlegend\": true, \"type\": \"scatter\", \"x\": [\"versicolor\", \"versicolor\", \"versicolor\", \"versicolor\", \"versicolor\", \"versicolor\", \"versicolor\", \"versicolor\", \"versicolor\", \"versicolor\", \"versicolor\", \"versicolor\", \"versicolor\", \"versicolor\", \"versicolor\", \"versicolor\", \"versicolor\", \"versicolor\", \"versicolor\", \"versicolor\", \"versicolor\", \"versicolor\", \"versicolor\", \"versicolor\", \"versicolor\", \"versicolor\", \"versicolor\", \"versicolor\", \"versicolor\", \"versicolor\", \"versicolor\", \"versicolor\", \"versicolor\", \"versicolor\", \"versicolor\", \"versicolor\", \"versicolor\", \"versicolor\", \"versicolor\", \"versicolor\", \"versicolor\", \"versicolor\", \"versicolor\", \"versicolor\", \"versicolor\", \"versicolor\", \"versicolor\", \"versicolor\", \"versicolor\", \"versicolor\"], \"xaxis\": \"x\", \"y\": [6.58, 6.75, 7.3500000000000005, 5.2, 6.8999999999999995, 5.8500000000000005, 7.5200000000000005, 3.3, 5.9799999999999995, 5.46, 3.5, 6.300000000000001, 4.0, 6.58, 4.680000000000001, 6.16, 6.75, 4.1, 6.75, 4.29, 8.64, 5.2, 7.3500000000000005, 5.64, 5.59, 6.16, 6.72, 8.5, 6.75, 3.5, 4.18, 3.7, 4.68, 8.16, 6.75, 7.2, 7.050000000000001, 5.720000000000001, 5.33, 5.2, 5.28, 6.4399999999999995, 4.8, 3.3, 5.460000000000001, 5.04, 5.460000000000001, 5.59, 3.3000000000000003, 5.33], \"yaxis\": \"y\"}, {\"hoverlabel\": {\"namelength\": 0}, \"hovertemplate\": \"Species=%{x}<br>Petal.SurfaceArea=%{y}\", \"legendgroup\": \"Species=virginica\", \"marker\": {\"color\": \"#00cc96\", \"symbol\": \"circle\"}, \"mode\": \"markers\", \"name\": \"Species=virginica\", \"showlegend\": true, \"type\": \"scatter\", \"x\": [\"virginica\", \"virginica\", \"virginica\", \"virginica\", \"virginica\", \"virginica\", \"virginica\", \"virginica\", \"virginica\", \"virginica\", \"virginica\", \"virginica\", \"virginica\", \"virginica\", \"virginica\", \"virginica\", \"virginica\", \"virginica\", \"virginica\", \"virginica\", \"virginica\", \"virginica\", \"virginica\", \"virginica\", \"virginica\", \"virginica\", \"virginica\", \"virginica\", \"virginica\", \"virginica\", \"virginica\", \"virginica\", \"virginica\", \"virginica\", \"virginica\", \"virginica\", \"virginica\", \"virginica\", \"virginica\", \"virginica\", \"virginica\", \"virginica\", \"virginica\", \"virginica\", \"virginica\", \"virginica\", \"virginica\", \"virginica\", \"virginica\", \"virginica\"], \"xaxis\": \"x\", \"y\": [15.0, 9.69, 12.39, 10.08, 12.76, 13.86, 7.6499999999999995, 11.34, 10.44, 15.25, 10.2, 10.069999999999999, 11.55, 10.0, 12.239999999999998, 12.19, 9.9, 14.740000000000002, 15.87, 7.5, 13.11, 9.8, 13.4, 8.82, 11.97, 10.8, 8.64, 8.82, 11.76, 9.28, 11.589999999999998, 12.8, 12.32, 7.6499999999999995, 7.839999999999999, 14.029999999999998, 13.44, 9.9, 8.64, 11.340000000000002, 13.44, 11.729999999999999, 9.69, 13.57, 14.25, 11.959999999999999, 9.5, 10.4, 12.42, 9.18], \"yaxis\": \"y\"}],\n",
              "                        {\"legend\": {\"tracegroupgap\": 0}, \"margin\": {\"t\": 60}, \"template\": {\"data\": {\"bar\": [{\"error_x\": {\"color\": \"#2a3f5f\"}, \"error_y\": {\"color\": \"#2a3f5f\"}, \"marker\": {\"line\": {\"color\": \"#E5ECF6\", \"width\": 0.5}}, \"type\": \"bar\"}], \"barpolar\": [{\"marker\": {\"line\": {\"color\": \"#E5ECF6\", \"width\": 0.5}}, \"type\": \"barpolar\"}], \"carpet\": [{\"aaxis\": {\"endlinecolor\": \"#2a3f5f\", \"gridcolor\": \"white\", \"linecolor\": \"white\", \"minorgridcolor\": \"white\", \"startlinecolor\": \"#2a3f5f\"}, \"baxis\": {\"endlinecolor\": \"#2a3f5f\", \"gridcolor\": \"white\", \"linecolor\": \"white\", \"minorgridcolor\": \"white\", \"startlinecolor\": \"#2a3f5f\"}, \"type\": \"carpet\"}], \"choropleth\": [{\"colorbar\": {\"outlinewidth\": 0, \"ticks\": \"\"}, \"type\": \"choropleth\"}], \"contour\": [{\"colorbar\": {\"outlinewidth\": 0, \"ticks\": \"\"}, \"colorscale\": [[0.0, \"#0d0887\"], [0.1111111111111111, \"#46039f\"], [0.2222222222222222, \"#7201a8\"], [0.3333333333333333, \"#9c179e\"], [0.4444444444444444, \"#bd3786\"], [0.5555555555555556, \"#d8576b\"], [0.6666666666666666, \"#ed7953\"], [0.7777777777777778, \"#fb9f3a\"], [0.8888888888888888, \"#fdca26\"], [1.0, \"#f0f921\"]], \"type\": \"contour\"}], \"contourcarpet\": [{\"colorbar\": {\"outlinewidth\": 0, \"ticks\": \"\"}, \"type\": \"contourcarpet\"}], \"heatmap\": [{\"colorbar\": {\"outlinewidth\": 0, \"ticks\": \"\"}, \"colorscale\": [[0.0, \"#0d0887\"], [0.1111111111111111, \"#46039f\"], [0.2222222222222222, \"#7201a8\"], [0.3333333333333333, \"#9c179e\"], [0.4444444444444444, \"#bd3786\"], [0.5555555555555556, \"#d8576b\"], [0.6666666666666666, \"#ed7953\"], [0.7777777777777778, \"#fb9f3a\"], [0.8888888888888888, \"#fdca26\"], [1.0, \"#f0f921\"]], \"type\": \"heatmap\"}], \"heatmapgl\": [{\"colorbar\": {\"outlinewidth\": 0, \"ticks\": \"\"}, \"colorscale\": [[0.0, \"#0d0887\"], [0.1111111111111111, \"#46039f\"], [0.2222222222222222, \"#7201a8\"], [0.3333333333333333, \"#9c179e\"], [0.4444444444444444, \"#bd3786\"], [0.5555555555555556, \"#d8576b\"], [0.6666666666666666, \"#ed7953\"], [0.7777777777777778, \"#fb9f3a\"], [0.8888888888888888, \"#fdca26\"], [1.0, \"#f0f921\"]], \"type\": \"heatmapgl\"}], \"histogram\": [{\"marker\": {\"colorbar\": {\"outlinewidth\": 0, \"ticks\": \"\"}}, \"type\": \"histogram\"}], \"histogram2d\": [{\"colorbar\": {\"outlinewidth\": 0, \"ticks\": \"\"}, \"colorscale\": [[0.0, \"#0d0887\"], [0.1111111111111111, \"#46039f\"], [0.2222222222222222, \"#7201a8\"], [0.3333333333333333, \"#9c179e\"], [0.4444444444444444, \"#bd3786\"], [0.5555555555555556, \"#d8576b\"], [0.6666666666666666, \"#ed7953\"], [0.7777777777777778, \"#fb9f3a\"], [0.8888888888888888, \"#fdca26\"], [1.0, \"#f0f921\"]], \"type\": \"histogram2d\"}], \"histogram2dcontour\": [{\"colorbar\": {\"outlinewidth\": 0, \"ticks\": \"\"}, \"colorscale\": [[0.0, \"#0d0887\"], [0.1111111111111111, \"#46039f\"], [0.2222222222222222, \"#7201a8\"], [0.3333333333333333, \"#9c179e\"], [0.4444444444444444, \"#bd3786\"], [0.5555555555555556, \"#d8576b\"], [0.6666666666666666, \"#ed7953\"], [0.7777777777777778, \"#fb9f3a\"], [0.8888888888888888, \"#fdca26\"], [1.0, \"#f0f921\"]], \"type\": \"histogram2dcontour\"}], \"mesh3d\": [{\"colorbar\": {\"outlinewidth\": 0, \"ticks\": \"\"}, \"type\": \"mesh3d\"}], \"parcoords\": [{\"line\": {\"colorbar\": {\"outlinewidth\": 0, \"ticks\": \"\"}}, \"type\": \"parcoords\"}], \"pie\": [{\"automargin\": true, \"type\": \"pie\"}], \"scatter\": [{\"marker\": {\"colorbar\": {\"outlinewidth\": 0, \"ticks\": \"\"}}, \"type\": \"scatter\"}], \"scatter3d\": [{\"line\": {\"colorbar\": {\"outlinewidth\": 0, \"ticks\": \"\"}}, \"marker\": {\"colorbar\": {\"outlinewidth\": 0, \"ticks\": \"\"}}, \"type\": \"scatter3d\"}], \"scattercarpet\": [{\"marker\": {\"colorbar\": {\"outlinewidth\": 0, \"ticks\": \"\"}}, \"type\": \"scattercarpet\"}], \"scattergeo\": [{\"marker\": {\"colorbar\": {\"outlinewidth\": 0, \"ticks\": \"\"}}, \"type\": \"scattergeo\"}], \"scattergl\": [{\"marker\": {\"colorbar\": {\"outlinewidth\": 0, \"ticks\": \"\"}}, \"type\": \"scattergl\"}], \"scattermapbox\": [{\"marker\": {\"colorbar\": {\"outlinewidth\": 0, \"ticks\": \"\"}}, \"type\": \"scattermapbox\"}], \"scatterpolar\": [{\"marker\": {\"colorbar\": {\"outlinewidth\": 0, \"ticks\": \"\"}}, \"type\": \"scatterpolar\"}], \"scatterpolargl\": [{\"marker\": {\"colorbar\": {\"outlinewidth\": 0, \"ticks\": \"\"}}, \"type\": \"scatterpolargl\"}], \"scatterternary\": [{\"marker\": {\"colorbar\": {\"outlinewidth\": 0, \"ticks\": \"\"}}, \"type\": \"scatterternary\"}], \"surface\": [{\"colorbar\": {\"outlinewidth\": 0, \"ticks\": \"\"}, \"colorscale\": [[0.0, \"#0d0887\"], [0.1111111111111111, \"#46039f\"], [0.2222222222222222, \"#7201a8\"], [0.3333333333333333, \"#9c179e\"], [0.4444444444444444, \"#bd3786\"], [0.5555555555555556, \"#d8576b\"], [0.6666666666666666, \"#ed7953\"], [0.7777777777777778, \"#fb9f3a\"], [0.8888888888888888, \"#fdca26\"], [1.0, \"#f0f921\"]], \"type\": \"surface\"}], \"table\": [{\"cells\": {\"fill\": {\"color\": \"#EBF0F8\"}, \"line\": {\"color\": \"white\"}}, \"header\": {\"fill\": {\"color\": \"#C8D4E3\"}, \"line\": {\"color\": \"white\"}}, \"type\": \"table\"}]}, \"layout\": {\"annotationdefaults\": {\"arrowcolor\": \"#2a3f5f\", \"arrowhead\": 0, \"arrowwidth\": 1}, \"coloraxis\": {\"colorbar\": {\"outlinewidth\": 0, \"ticks\": \"\"}}, \"colorscale\": {\"diverging\": [[0, \"#8e0152\"], [0.1, \"#c51b7d\"], [0.2, \"#de77ae\"], [0.3, \"#f1b6da\"], [0.4, \"#fde0ef\"], [0.5, \"#f7f7f7\"], [0.6, \"#e6f5d0\"], [0.7, \"#b8e186\"], [0.8, \"#7fbc41\"], [0.9, \"#4d9221\"], [1, \"#276419\"]], \"sequential\": [[0.0, \"#0d0887\"], [0.1111111111111111, \"#46039f\"], [0.2222222222222222, \"#7201a8\"], [0.3333333333333333, \"#9c179e\"], [0.4444444444444444, \"#bd3786\"], [0.5555555555555556, \"#d8576b\"], [0.6666666666666666, \"#ed7953\"], [0.7777777777777778, \"#fb9f3a\"], [0.8888888888888888, \"#fdca26\"], [1.0, \"#f0f921\"]], \"sequentialminus\": [[0.0, \"#0d0887\"], [0.1111111111111111, \"#46039f\"], [0.2222222222222222, \"#7201a8\"], [0.3333333333333333, \"#9c179e\"], [0.4444444444444444, \"#bd3786\"], [0.5555555555555556, \"#d8576b\"], [0.6666666666666666, \"#ed7953\"], [0.7777777777777778, \"#fb9f3a\"], [0.8888888888888888, \"#fdca26\"], [1.0, \"#f0f921\"]]}, \"colorway\": [\"#636efa\", \"#EF553B\", \"#00cc96\", \"#ab63fa\", \"#FFA15A\", \"#19d3f3\", \"#FF6692\", \"#B6E880\", \"#FF97FF\", \"#FECB52\"], \"font\": {\"color\": \"#2a3f5f\"}, \"geo\": {\"bgcolor\": \"white\", \"lakecolor\": \"white\", \"landcolor\": \"#E5ECF6\", \"showlakes\": true, \"showland\": true, \"subunitcolor\": \"white\"}, \"hoverlabel\": {\"align\": \"left\"}, \"hovermode\": \"closest\", \"mapbox\": {\"style\": \"light\"}, \"paper_bgcolor\": \"white\", \"plot_bgcolor\": \"#E5ECF6\", \"polar\": {\"angularaxis\": {\"gridcolor\": \"white\", \"linecolor\": \"white\", \"ticks\": \"\"}, \"bgcolor\": \"#E5ECF6\", \"radialaxis\": {\"gridcolor\": \"white\", \"linecolor\": \"white\", \"ticks\": \"\"}}, \"scene\": {\"xaxis\": {\"backgroundcolor\": \"#E5ECF6\", \"gridcolor\": \"white\", \"gridwidth\": 2, \"linecolor\": \"white\", \"showbackground\": true, \"ticks\": \"\", \"zerolinecolor\": \"white\"}, \"yaxis\": {\"backgroundcolor\": \"#E5ECF6\", \"gridcolor\": \"white\", \"gridwidth\": 2, \"linecolor\": \"white\", \"showbackground\": true, \"ticks\": \"\", \"zerolinecolor\": \"white\"}, \"zaxis\": {\"backgroundcolor\": \"#E5ECF6\", \"gridcolor\": \"white\", \"gridwidth\": 2, \"linecolor\": \"white\", \"showbackground\": true, \"ticks\": \"\", \"zerolinecolor\": \"white\"}}, \"shapedefaults\": {\"line\": {\"color\": \"#2a3f5f\"}}, \"ternary\": {\"aaxis\": {\"gridcolor\": \"white\", \"linecolor\": \"white\", \"ticks\": \"\"}, \"baxis\": {\"gridcolor\": \"white\", \"linecolor\": \"white\", \"ticks\": \"\"}, \"bgcolor\": \"#E5ECF6\", \"caxis\": {\"gridcolor\": \"white\", \"linecolor\": \"white\", \"ticks\": \"\"}}, \"title\": {\"x\": 0.05}, \"xaxis\": {\"automargin\": true, \"gridcolor\": \"white\", \"linecolor\": \"white\", \"ticks\": \"\", \"title\": {\"standoff\": 15}, \"zerolinecolor\": \"white\", \"zerolinewidth\": 2}, \"yaxis\": {\"automargin\": true, \"gridcolor\": \"white\", \"linecolor\": \"white\", \"ticks\": \"\", \"title\": {\"standoff\": 15}, \"zerolinecolor\": \"white\", \"zerolinewidth\": 2}}}, \"xaxis\": {\"anchor\": \"y\", \"categoryarray\": [\"setosa\", \"versicolor\", \"virginica\"], \"categoryorder\": \"array\", \"domain\": [0.0, 1.0], \"title\": {\"text\": \"Species\"}}, \"yaxis\": {\"anchor\": \"x\", \"domain\": [0.0, 1.0], \"title\": {\"text\": \"Petal.SurfaceArea\"}}},\n",
              "                        {\"responsive\": true}\n",
              "                    ).then(function(){\n",
              "                            \n",
              "var gd = document.getElementById('043eef42-dbeb-4981-b848-3dfea1ae5520');\n",
              "var x = new MutationObserver(function (mutations, observer) {{\n",
              "        var display = window.getComputedStyle(gd).display;\n",
              "        if (!display || display === 'none') {{\n",
              "            console.log([gd, 'removed!']);\n",
              "            Plotly.purge(gd);\n",
              "            observer.disconnect();\n",
              "        }}\n",
              "}});\n",
              "\n",
              "// Listen for the removal of the full notebook cells\n",
              "var notebookContainer = gd.closest('#notebook-container');\n",
              "if (notebookContainer) {{\n",
              "    x.observe(notebookContainer, {childList: true});\n",
              "}}\n",
              "\n",
              "// Listen for the clearing of the current output cell\n",
              "var outputEl = gd.closest('.output');\n",
              "if (outputEl) {{\n",
              "    x.observe(outputEl, {childList: true});\n",
              "}}\n",
              "\n",
              "                        })\n",
              "                };\n",
              "                \n",
              "            </script>\n",
              "        </div>\n",
              "</body>\n",
              "</html>"
            ]
          },
          "metadata": {}
        }
      ]
    },
    {
      "cell_type": "code",
      "metadata": {
        "id": "Az3d1FX0nWRG"
      },
      "source": [
        "#############################---Exercise 3 Start---###################################\n",
        "'''\n",
        "  Load lady_potty.csv into a pandas data frame. It should have been loaded onto your remote Colab computer in the very first line.\n",
        "  If not, run the following command !wget https://andrewnc.github.io/lady_potty.csv to download the data\n",
        "  This data comes from a friend’s dog named Lady. We recorded her bathroom trips over the course of a few weeks to see if there was a trend to her business.\n",
        "  It was mostly because she liked to go out multiple times per day, and we wanted to see if there was a better time for us to take her out.\n",
        "'''\n",
        "\n",
        "def timeStrToObj(string):\n",
        "    date_time_obj = dt.datetime.strptime(string, '%Y-%m-%d %H:%M:%S.%f')\n",
        "    return date_time_obj\n",
        "\n",
        "# Make data into lists\n",
        "headers = lady_potty_list[0].split(',')\n",
        "potty_data = []\n",
        "# Cast into the appropriate data types\n",
        "for row in lady_potty_list[1:]:\n",
        "    row = row.split(',')\n",
        "    row[0] = int(row[0])\n",
        "    row[3] = int(row[3])\n",
        "    row[4] = int(row[4])\n",
        "    row[5] = int(row[5])\n",
        "    timeAsString = row[1]\n",
        "    timeObj = timeStrToObj(timeAsString)\n",
        "    row[1] = timeObj\n",
        "    potty_data.append(row)\n",
        "\n",
        "# Prepare the dataframe\n",
        "indexData = [i for i in range(len(potty_data))]\n",
        "potty_df = pd.DataFrame(data=potty_data, index=indexData, columns=headers)\n",
        "######################################################################################"
      ],
      "execution_count": 80,
      "outputs": []
    },
    {
      "cell_type": "code",
      "metadata": {
        "colab": {
          "base_uri": "https://localhost:8080/",
          "height": 440
        },
        "id": "498wk_TXs7pZ",
        "outputId": "98e5a54a-8916-4c9f-b386-a4f17a54ba05"
      },
      "source": [
        "#############################---Exercise 4 Start---###################################\n",
        "'''\n",
        "  Create a box plot for 24 hour periods to visualize the trend of Lady's potty breaks.\n",
        "  Make sure the xticks, xlabel, ylabel, and title are all tidy and well labeled.\n",
        "'''\n",
        "\n",
        "sun = []\n",
        "mon = []\n",
        "tues = []\n",
        "wed = []\n",
        "thur = []\n",
        "fri = []\n",
        "sat = []\n",
        "\n",
        "for row in potty_data:\n",
        "  hour = row[1].hour\n",
        "  day = row[2]\n",
        "  if day == 'sun':\n",
        "    sun.append(hour)\n",
        "  elif day == 'mon':\n",
        "    mon.append(hour)\n",
        "  elif day == 'tues':\n",
        "    tues.append(hour)\n",
        "  elif day == 'wed':\n",
        "    wed.append(hour)\n",
        "  elif day == 'thur':\n",
        "    thur.append(hour)\n",
        "  elif day == 'fri':\n",
        "    fri.append(hour)\n",
        "  else: # sat\n",
        "    sat.append(hour)\n",
        "\n",
        "\n",
        "columns = [sun, mon, tues, wed, thur, fri, sat]\n",
        "\n",
        "\n",
        "fig, ax = plt.subplots()\n",
        "ax.boxplot(columns)\n",
        "\n",
        "fig.set_figwidth(10)\n",
        "fig.set_figheight(5)\n",
        "\n",
        "plt.suptitle('')\n",
        "plt.title('Daily Bathroom Breaks by Hour')\n",
        "plt.xlabel('Day of week')\n",
        "plt.xticks(np.arange(8), ['', 'Sun', 'Mon', 'Tues', 'Wed', 'Thurs', 'Fri', 'Sat'])  # Set text labels.\n",
        "plt.ylabel('Hour of the day')\n",
        "plt.yticks(np.arange(0, 25, 2))\n",
        "plt.grid(linewidth=.5)\n",
        "plt.show()\n",
        "######################################################################################"
      ],
      "execution_count": 131,
      "outputs": [
        {
          "output_type": "stream",
          "name": "stderr",
          "text": [
            "/usr/local/lib/python3.7/dist-packages/numpy/core/_asarray.py:83: VisibleDeprecationWarning:\n",
            "\n",
            "Creating an ndarray from ragged nested sequences (which is a list-or-tuple of lists-or-tuples-or ndarrays with different lengths or shapes) is deprecated. If you meant to do this, you must specify 'dtype=object' when creating the ndarray\n",
            "\n"
          ]
        },
        {
          "output_type": "display_data",
          "data": {
            "image/png": "[encoded data removed]",
            "text/plain": [
              "<Figure size 720x360 with 1 Axes>"
            ]
          },
          "metadata": {
            "needs_background": "light"
          }
        }
      ]
    },
    {
      "cell_type": "code",
      "metadata": {
        "colab": {
          "base_uri": "https://localhost:8080/"
        },
        "id": "qsA0vQEDImly",
        "outputId": "fe6c6820-b430-426d-ec68-b7b34880865f"
      },
      "source": [
        "#############################---Exercise 5 Start---###################################\n",
        "'''\n",
        "  Write what you observe from the boxplot data about my dog's potty behavior\n",
        "'''\n",
        "\n",
        "print(\"I observe that your dog basically never goes to the bathroom before 8am. Except for some reason, Monday morning tends to require an earlier potty break in the day than other weeks.\")\n",
        "print(\"I observe that on Thursday, Friday, and Saturdays, your dog usally takes a potty break around 5pm-6pm (this is the median time).\")"
      ],
      "execution_count": 132,
      "outputs": [
        {
          "output_type": "stream",
          "name": "stdout",
          "text": [
            "I observe that your dog basically never goes to the bathroom before 8am. Except for some reason, Monday morning tends to require an earlier potty break in the day than other weeks.\n",
            "I observe that on Thursday, Friday, and Saturdays, your dog usally takes a potty break around 5pm-6pm (this is the median time).\n"
          ]
        }
      ]
    },
    {
      "cell_type": "code",
      "metadata": {
        "id": "VXU4EaJndsKn"
      },
      "source": [
        ""
      ],
      "execution_count": null,
      "outputs": []
    }
  ]
}